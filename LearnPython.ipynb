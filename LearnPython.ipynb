{
 "cells": [
  {
   "cell_type": "markdown",
   "metadata": {},
   "source": [
    "## 0. Python, iPython \n",
    "Run python code in cmd: python file_name.py (python code save as xxx.py)\n",
    "\n",
    "GUI: pycharm etc\n",
    "\n",
    "Ipython - easy for track/present the results, cache the results - jupyter notebook (suggest to install anaconda)\n",
    "https://docs.anaconda.com/anaconda/install/mac-os.html\n",
    "cmd: jupyter notebook\n",
    "\n",
    "python document https://docs.python.org/2.7/index.html"
   ]
  },
  {
   "cell_type": "markdown",
   "metadata": {},
   "source": [
    "## 1. Basic Data Types and Data Structures in Python"
   ]
  },
  {
   "cell_type": "markdown",
   "metadata": {},
   "source": [
    "### 1.1 Numbers, String, Boolean, List, Tuple, Dictionary\n",
    "Numbers: int, long, float, complex\n",
    "\n",
    "Variable name: start from '_' or letters, do not use some reserved key words (e.g. print, def)\n",
    "\n",
    "Different from R: do not use '.' in the name, do not use '<-'\n",
    "\n",
    "http://pythontutor.com\n",
    "#### KEY NOTES: in python no need to specify the types when define variables"
   ]
  },
  {
   "cell_type": "code",
   "execution_count": 21,
   "metadata": {},
   "outputs": [
    {
     "name": "stdout",
     "output_type": "stream",
     "text": [
      "<type 'int'>\n",
      "<type 'str'>\n",
      "<type 'list'>\n"
     ]
    }
   ],
   "source": [
    "a = 1\n",
    "print type(a)\n",
    "\n",
    "a = 'hello'\n",
    "print type(a)\n",
    "\n",
    "a = []\n",
    "print type(a)"
   ]
  },
  {
   "cell_type": "code",
   "execution_count": 3,
   "metadata": {},
   "outputs": [
    {
     "name": "stdout",
     "output_type": "stream",
     "text": [
      "1\n"
     ]
    },
    {
     "ename": "ValueError",
     "evalue": "invalid literal for int() with base 10: 'a'",
     "output_type": "error",
     "traceback": [
      "\u001b[0;31m---------------------------------------------------------------------------\u001b[0m",
      "\u001b[0;31mValueError\u001b[0m                                Traceback (most recent call last)",
      "\u001b[0;32m<ipython-input-3-094ce310b221>\u001b[0m in \u001b[0;36m<module>\u001b[0;34m()\u001b[0m\n\u001b[1;32m      3\u001b[0m \u001b[0;34m\u001b[0m\u001b[0m\n\u001b[1;32m      4\u001b[0m \u001b[0ma\u001b[0m \u001b[0;34m=\u001b[0m \u001b[0;34m'a'\u001b[0m\u001b[0;34m\u001b[0m\u001b[0m\n\u001b[0;32m----> 5\u001b[0;31m \u001b[0;32mprint\u001b[0m \u001b[0mint\u001b[0m\u001b[0;34m(\u001b[0m\u001b[0ma\u001b[0m\u001b[0;34m)\u001b[0m\u001b[0;34m\u001b[0m\u001b[0m\n\u001b[0m",
      "\u001b[0;31mValueError\u001b[0m: invalid literal for int() with base 10: 'a'"
     ]
    }
   ],
   "source": [
    "a = '1'\n",
    "print int(a)\n",
    "\n",
    "a = 'a'\n",
    "print int(a)"
   ]
  },
  {
   "cell_type": "code",
   "execution_count": 23,
   "metadata": {},
   "outputs": [
    {
     "name": "stdout",
     "output_type": "stream",
     "text": [
      "a/c is: 0\n",
      "b/c is: 0.2\n"
     ]
    }
   ],
   "source": [
    "a = 1\n",
    "c = 5\n",
    "print \"a/c is:\", a / c\n",
    "\n",
    "b = 1.0\n",
    "print \"b/c is:\",b / c"
   ]
  },
  {
   "cell_type": "markdown",
   "metadata": {},
   "source": [
    "### 1.2 List\n",
    "#### KEY NOTE: index start from 0\n",
    "https://docs.python.org/3/tutorial/datastructures.html"
   ]
  },
  {
   "cell_type": "code",
   "execution_count": 34,
   "metadata": {
    "scrolled": true
   },
   "outputs": [
    {
     "name": "stdout",
     "output_type": "stream",
     "text": [
      "[1, 2, 3]\n"
     ]
    }
   ],
   "source": [
    "list1 = list()\n",
    "\n",
    "list1.append(1)\n",
    "list1.append(2)\n",
    "list1.append(3)\n",
    "\n",
    "print list1"
   ]
  },
  {
   "cell_type": "code",
   "execution_count": 4,
   "metadata": {
    "scrolled": true
   },
   "outputs": [
    {
     "name": "stdout",
     "output_type": "stream",
     "text": [
      "[1, 2, 3]\n",
      "1\n"
     ]
    }
   ],
   "source": [
    "list1 = [1,2,3]\n",
    "print list1\n",
    "\n",
    "print list1[0]"
   ]
  },
  {
   "cell_type": "code",
   "execution_count": 25,
   "metadata": {},
   "outputs": [
    {
     "name": "stdout",
     "output_type": "stream",
     "text": [
      "[0, 1, 2, 3, 4]\n",
      "[1, 2, 3]\n"
     ]
    }
   ],
   "source": [
    "print range(5)\n",
    "print range(1,4)"
   ]
  },
  {
   "cell_type": "markdown",
   "metadata": {},
   "source": [
    "#### KET NOTE: indentation is VERY IMPORTANT in python"
   ]
  },
  {
   "cell_type": "code",
   "execution_count": 56,
   "metadata": {},
   "outputs": [
    {
     "name": "stdout",
     "output_type": "stream",
     "text": [
      "[1, 2, 3]\n"
     ]
    }
   ],
   "source": [
    "list1 = list()\n",
    "\n",
    "for i in range(1,4):\n",
    "    list1.append(i)\n",
    "\n",
    "print list1"
   ]
  },
  {
   "cell_type": "code",
   "execution_count": 57,
   "metadata": {},
   "outputs": [
    {
     "name": "stdout",
     "output_type": "stream",
     "text": [
      "[1, 2, 3, 1, 2, 3]\n"
     ]
    }
   ],
   "source": [
    "print list1 * 2"
   ]
  },
  {
   "cell_type": "code",
   "execution_count": 58,
   "metadata": {},
   "outputs": [
    {
     "name": "stdout",
     "output_type": "stream",
     "text": [
      "[2, 4, 6]\n"
     ]
    }
   ],
   "source": [
    "for i in range(len(list1)):\n",
    "    list1[i] = list1[i] * 2\n",
    "print list1"
   ]
  },
  {
   "cell_type": "code",
   "execution_count": 60,
   "metadata": {},
   "outputs": [
    {
     "name": "stdout",
     "output_type": "stream",
     "text": [
      "[0, 1, 2, 3, 4]\n"
     ]
    }
   ],
   "source": [
    "print range(5)"
   ]
  },
  {
   "cell_type": "code",
   "execution_count": 59,
   "metadata": {},
   "outputs": [
    {
     "name": "stdout",
     "output_type": "stream",
     "text": [
      "[0, 1, 4, 9, 16]\n"
     ]
    }
   ],
   "source": [
    "list2 = [x ** 2 for x in range(5)]\n",
    "print list2"
   ]
  },
  {
   "cell_type": "code",
   "execution_count": 9,
   "metadata": {},
   "outputs": [
    {
     "name": "stdout",
     "output_type": "stream",
     "text": [
      "[[1, 2, 3], [4, 5, 6]]\n"
     ]
    }
   ],
   "source": [
    "list3 = [[1,2,3], [4,5,6]]\n",
    "print list3"
   ]
  },
  {
   "cell_type": "code",
   "execution_count": 40,
   "metadata": {},
   "outputs": [
    {
     "name": "stdout",
     "output_type": "stream",
     "text": [
      "[[ 3  6  9]\n",
      " [12 15 18]]\n"
     ]
    }
   ],
   "source": [
    "import numpy as np\n",
    "list4 = np.array(list3)\n",
    "print list4 * 3"
   ]
  },
  {
   "cell_type": "code",
   "execution_count": 41,
   "metadata": {},
   "outputs": [
    {
     "name": "stdout",
     "output_type": "stream",
     "text": [
      "[[1 4]\n",
      " [2 5]\n",
      " [3 6]]\n"
     ]
    }
   ],
   "source": [
    "list4t = list4.T\n",
    "print list4t"
   ]
  },
  {
   "cell_type": "code",
   "execution_count": 42,
   "metadata": {},
   "outputs": [
    {
     "name": "stdout",
     "output_type": "stream",
     "text": [
      "[[14 32]\n",
      " [32 77]]\n"
     ]
    }
   ],
   "source": [
    "print np.dot(list4, list4t)"
   ]
  },
  {
   "cell_type": "code",
   "execution_count": 111,
   "metadata": {},
   "outputs": [
    {
     "name": "stdout",
     "output_type": "stream",
     "text": [
      "['apple', 'apple', 'banana', 'banana', 'kiwi', 'orange', 'pear']\n",
      "pear\n"
     ]
    }
   ],
   "source": [
    "fruits = ['orange', 'apple', 'pear', 'banana', 'kiwi', 'apple', 'banana']\n",
    "fruits.sort()\n",
    "print fruits\n",
    "print fruits.pop()"
   ]
  },
  {
   "cell_type": "markdown",
   "metadata": {},
   "source": [
    "### 1.3 String\n",
    "https://docs.python.org/2/library/string.html"
   ]
  },
  {
   "cell_type": "code",
   "execution_count": 69,
   "metadata": {},
   "outputs": [
    {
     "data": {
      "text/plain": [
       "'h'"
      ]
     },
     "execution_count": 69,
     "metadata": {},
     "output_type": "execute_result"
    }
   ],
   "source": [
    "s1 = \"hello world\"\n",
    "s1[0]"
   ]
  },
  {
   "cell_type": "code",
   "execution_count": 70,
   "metadata": {},
   "outputs": [
    {
     "name": "stdout",
     "output_type": "stream",
     "text": [
      "['hello', 'world']\n"
     ]
    }
   ],
   "source": [
    "s1 = s1.split(' ')\n",
    "print s1"
   ]
  },
  {
   "cell_type": "code",
   "execution_count": 71,
   "metadata": {},
   "outputs": [
    {
     "data": {
      "text/plain": [
       "'hello'"
      ]
     },
     "execution_count": 71,
     "metadata": {},
     "output_type": "execute_result"
    }
   ],
   "source": [
    "s1[0]"
   ]
  },
  {
   "cell_type": "markdown",
   "metadata": {},
   "source": [
    "### 1.4 Tuple, Set, Dictionary"
   ]
  },
  {
   "cell_type": "code",
   "execution_count": 105,
   "metadata": {},
   "outputs": [
    {
     "name": "stdout",
     "output_type": "stream",
     "text": [
      "(12345, 54321, 'hello!')\n"
     ]
    }
   ],
   "source": [
    "t0 = 12345, 54321, 'hello!'\n",
    "print t0"
   ]
  },
  {
   "cell_type": "code",
   "execution_count": 106,
   "metadata": {},
   "outputs": [
    {
     "name": "stdout",
     "output_type": "stream",
     "text": [
      "12345\n"
     ]
    }
   ],
   "source": [
    "t1, t2, t3 = 12345, 54321, 'hello!'\n",
    "print t1"
   ]
  },
  {
   "cell_type": "code",
   "execution_count": 110,
   "metadata": {},
   "outputs": [
    {
     "name": "stdout",
     "output_type": "stream",
     "text": [
      "num items: 7\n",
      "set(['orange', 'kiwi', 'pear', 'apple', 'banana']) num items: 5\n"
     ]
    }
   ],
   "source": [
    "fruits = ['orange', 'apple', 'pear', 'banana', 'kiwi', 'apple', 'banana']\n",
    "print 'num items:', len(fruits)\n",
    "fruits_set = set(fruits)\n",
    "print fruits_set, 'num items:', len(fruits_set)"
   ]
  },
  {
   "cell_type": "code",
   "execution_count": 118,
   "metadata": {
    "collapsed": true
   },
   "outputs": [],
   "source": [
    "d1 = {'anne':'A', 'betty':'A-', 'cindy':'B+'}"
   ]
  },
  {
   "cell_type": "code",
   "execution_count": 119,
   "metadata": {},
   "outputs": [
    {
     "data": {
      "text/plain": [
       "'A'"
      ]
     },
     "execution_count": 119,
     "metadata": {},
     "output_type": "execute_result"
    }
   ],
   "source": [
    "d1['anne']"
   ]
  },
  {
   "cell_type": "code",
   "execution_count": 137,
   "metadata": {},
   "outputs": [
    {
     "name": "stdout",
     "output_type": "stream",
     "text": [
      "['anne', 'betty', 'cindy']\n",
      "['A', 'A-', 'B+']\n"
     ]
    }
   ],
   "source": [
    "print d1.keys()\n",
    "print d1.values()"
   ]
  },
  {
   "cell_type": "code",
   "execution_count": 139,
   "metadata": {},
   "outputs": [
    {
     "name": "stdout",
     "output_type": "stream",
     "text": [
      "anne\n",
      "betty\n",
      "cindy\n",
      "A\n",
      "A-\n",
      "B+\n",
      "('anne', 'A')\n",
      "('betty', 'A-')\n",
      "('cindy', 'B+')\n"
     ]
    }
   ],
   "source": [
    "for x in d1:\n",
    "    print x\n",
    "    \n",
    "for y in d1.values():\n",
    "    print y\n",
    "    \n",
    "for z in d1.items():\n",
    "    print z"
   ]
  },
  {
   "cell_type": "markdown",
   "metadata": {},
   "source": [
    "more: stack, queue, heap etc (probable will not be used in our daily work)"
   ]
  },
  {
   "cell_type": "code",
   "execution_count": null,
   "metadata": {
    "collapsed": true
   },
   "outputs": [],
   "source": []
  },
  {
   "cell_type": "markdown",
   "metadata": {},
   "source": [
    "## 2. Operators, Conditional Statements, Loop\n",
    "\n",
    "https://docs.python.org/3/tutorial/controlflow.html"
   ]
  },
  {
   "cell_type": "markdown",
   "metadata": {},
   "source": [
    "### 2.1 Basic Operators"
   ]
  },
  {
   "cell_type": "markdown",
   "metadata": {},
   "source": [
    "+, - , * , /, %\n",
    "\n",
    "<, <=, >, >=, !=, ==\n",
    "\n",
    "and, or"
   ]
  },
  {
   "cell_type": "markdown",
   "metadata": {},
   "source": [
    "### 2.2 If Statements"
   ]
  },
  {
   "cell_type": "code",
   "execution_count": 131,
   "metadata": {},
   "outputs": [
    {
     "name": "stdout",
     "output_type": "stream",
     "text": [
      "['T', 'F', 'F', 'T']\n"
     ]
    }
   ],
   "source": [
    "compare_list_1 = [1, 2, 3, 4]\n",
    "compare_list_2 = [1, 5, 1, 4]\n",
    "check_list = []\n",
    "\n",
    "for i in range(len(compare_list_1)):\n",
    "    if compare_list_1[i] == compare_list_2[i]:\n",
    "        check_list.append('T')\n",
    "    else:\n",
    "        check_list.append('F')\n",
    "print check_list"
   ]
  },
  {
   "cell_type": "code",
   "execution_count": 134,
   "metadata": {},
   "outputs": [
    {
     "name": "stdout",
     "output_type": "stream",
     "text": [
      "['equal', 'smaller', 'greater', 'equal']\n"
     ]
    }
   ],
   "source": [
    "check_list = []\n",
    "for i in range(len(compare_list_1)):\n",
    "    if compare_list_1[i] == compare_list_2[i]:\n",
    "        check_list.append('equal')\n",
    "    elif compare_list_1[i] < compare_list_2[i]:\n",
    "        check_list.append('smaller')\n",
    "    else:\n",
    "        check_list.append('greater')\n",
    "print check_list"
   ]
  },
  {
   "cell_type": "markdown",
   "metadata": {},
   "source": [
    "### 2.3 For Loop"
   ]
  },
  {
   "cell_type": "code",
   "execution_count": null,
   "metadata": {
    "collapsed": true
   },
   "outputs": [],
   "source": [
    "s2 = \"analytics\"\n",
    "for i in range(len(s2)):\n",
    "    print s2[i]\n",
    "# for ch in s2:\n",
    "#     print ch"
   ]
  },
  {
   "cell_type": "code",
   "execution_count": 187,
   "metadata": {},
   "outputs": [
    {
     "name": "stdout",
     "output_type": "stream",
     "text": [
      "['category', 'orders', 'visitors']\n",
      "['bathroom', '300', '30000']\n",
      "['kitchen', '200', '40000']\n",
      "['living', '100', '15000']\n",
      "[['bathroom', '300', '30000'], ['kitchen', '200', '40000'], ['living', '100', '15000']]\n"
     ]
    }
   ],
   "source": [
    "# use for loop to open a file\n",
    "f = open(\"foo.csv\")\n",
    "contents = []\n",
    "for row in f:\n",
    "    row = row.strip()\n",
    "    cols = row.split(\",\")\n",
    "    print cols\n",
    "    contents.append(cols)\n",
    "f.close()\n",
    "print contents[1:]"
   ]
  },
  {
   "cell_type": "markdown",
   "metadata": {},
   "source": [
    "### 2.4 While Loop\n",
    "example: sqrt - Newton's methods - https://en.wikipedia.org/wiki/Methods_of_computing_square_roots"
   ]
  },
  {
   "cell_type": "code",
   "execution_count": 159,
   "metadata": {},
   "outputs": [
    {
     "name": "stdout",
     "output_type": "stream",
     "text": [
      "sqrt(s) is 12.000000\n"
     ]
    }
   ],
   "source": [
    "import numpy as np\n",
    "\n",
    "def sqrt(n):\n",
    "    PRECISION = 1e-10\n",
    "    x0 = 1.0\n",
    "    xold = x0\n",
    "    while True:\n",
    "        xnew = 0.5 * (xold + n/xold)\n",
    "        if abs(xnew - xold) < PRECISION: \n",
    "            break\n",
    "        xold = xnew\n",
    "    return xnew\n",
    "\n",
    "s = sqrt(144)\n",
    "print \"sqrt(s) is %1.6f\" % s"
   ]
  },
  {
   "cell_type": "markdown",
   "metadata": {},
   "source": [
    "## 3. Functions"
   ]
  },
  {
   "cell_type": "code",
   "execution_count": 162,
   "metadata": {
    "collapsed": true
   },
   "outputs": [],
   "source": [
    "def first_func():\n",
    "    print 'hello world'"
   ]
  },
  {
   "cell_type": "code",
   "execution_count": 164,
   "metadata": {},
   "outputs": [
    {
     "name": "stdout",
     "output_type": "stream",
     "text": [
      "hello world\n"
     ]
    }
   ],
   "source": [
    "first_func()"
   ]
  },
  {
   "cell_type": "code",
   "execution_count": 176,
   "metadata": {
    "collapsed": true
   },
   "outputs": [],
   "source": [
    "def adding(a, b):\n",
    "    print 'adding now'\n",
    "    return a + b"
   ]
  },
  {
   "cell_type": "code",
   "execution_count": 179,
   "metadata": {},
   "outputs": [
    {
     "name": "stdout",
     "output_type": "stream",
     "text": [
      "adding now\n",
      "3\n"
     ]
    }
   ],
   "source": [
    "s = adding(1, 2)\n",
    "print s"
   ]
  },
  {
   "cell_type": "markdown",
   "metadata": {},
   "source": [
    "## 4. pandas - Dataframe\n",
    "### Useful package for data scientist/ analyst\n",
    "https://pandas.pydata.org/pandas-docs/stable/"
   ]
  },
  {
   "cell_type": "markdown",
   "metadata": {},
   "source": [
    "### 4.1 Basic for pandas - Dataframe"
   ]
  },
  {
   "cell_type": "code",
   "execution_count": 188,
   "metadata": {},
   "outputs": [
    {
     "data": {
      "text/html": [
       "<div>\n",
       "<table border=\"1\" class=\"dataframe\">\n",
       "  <thead>\n",
       "    <tr style=\"text-align: right;\">\n",
       "      <th></th>\n",
       "      <th>category</th>\n",
       "      <th>orders</th>\n",
       "      <th>visitors</th>\n",
       "    </tr>\n",
       "  </thead>\n",
       "  <tbody>\n",
       "    <tr>\n",
       "      <th>0</th>\n",
       "      <td>bathroom</td>\n",
       "      <td>300</td>\n",
       "      <td>30000</td>\n",
       "    </tr>\n",
       "    <tr>\n",
       "      <th>1</th>\n",
       "      <td>kitchen</td>\n",
       "      <td>200</td>\n",
       "      <td>40000</td>\n",
       "    </tr>\n",
       "    <tr>\n",
       "      <th>2</th>\n",
       "      <td>living</td>\n",
       "      <td>100</td>\n",
       "      <td>15000</td>\n",
       "    </tr>\n",
       "  </tbody>\n",
       "</table>\n",
       "</div>"
      ],
      "text/plain": [
       "   category  orders  visitors\n",
       "0  bathroom     300     30000\n",
       "1   kitchen     200     40000\n",
       "2    living     100     15000"
      ]
     },
     "execution_count": 188,
     "metadata": {},
     "output_type": "execute_result"
    }
   ],
   "source": [
    "import pandas as pd\n",
    "df = pd.read_csv('foo.csv')\n",
    "df"
   ]
  },
  {
   "cell_type": "code",
   "execution_count": 189,
   "metadata": {},
   "outputs": [
    {
     "data": {
      "text/html": [
       "<div>\n",
       "<table border=\"1\" class=\"dataframe\">\n",
       "  <thead>\n",
       "    <tr style=\"text-align: right;\">\n",
       "      <th></th>\n",
       "      <th>category</th>\n",
       "      <th>orders</th>\n",
       "      <th>visitors</th>\n",
       "      <th>order_per_visitor</th>\n",
       "    </tr>\n",
       "  </thead>\n",
       "  <tbody>\n",
       "    <tr>\n",
       "      <th>0</th>\n",
       "      <td>bathroom</td>\n",
       "      <td>300</td>\n",
       "      <td>30000</td>\n",
       "      <td>0.010000</td>\n",
       "    </tr>\n",
       "    <tr>\n",
       "      <th>1</th>\n",
       "      <td>kitchen</td>\n",
       "      <td>200</td>\n",
       "      <td>40000</td>\n",
       "      <td>0.005000</td>\n",
       "    </tr>\n",
       "    <tr>\n",
       "      <th>2</th>\n",
       "      <td>living</td>\n",
       "      <td>100</td>\n",
       "      <td>15000</td>\n",
       "      <td>0.006667</td>\n",
       "    </tr>\n",
       "  </tbody>\n",
       "</table>\n",
       "</div>"
      ],
      "text/plain": [
       "   category  orders  visitors  order_per_visitor\n",
       "0  bathroom     300     30000           0.010000\n",
       "1   kitchen     200     40000           0.005000\n",
       "2    living     100     15000           0.006667"
      ]
     },
     "execution_count": 189,
     "metadata": {},
     "output_type": "execute_result"
    }
   ],
   "source": [
    "# in pandas: type(df['orders'][1]) is numpy.int64\n",
    "df['order_per_visitor'] = df['orders'] / df['visitors']\n",
    "df"
   ]
  },
  {
   "cell_type": "code",
   "execution_count": 194,
   "metadata": {},
   "outputs": [
    {
     "data": {
      "text/html": [
       "<div>\n",
       "<table border=\"1\" class=\"dataframe\">\n",
       "  <thead>\n",
       "    <tr style=\"text-align: right;\">\n",
       "      <th></th>\n",
       "      <th>category</th>\n",
       "      <th>orders</th>\n",
       "      <th>visitors</th>\n",
       "      <th>order_per_visitor</th>\n",
       "    </tr>\n",
       "  </thead>\n",
       "  <tbody>\n",
       "    <tr>\n",
       "      <th>1</th>\n",
       "      <td>kitchen</td>\n",
       "      <td>200</td>\n",
       "      <td>40000</td>\n",
       "      <td>0.005000</td>\n",
       "    </tr>\n",
       "    <tr>\n",
       "      <th>2</th>\n",
       "      <td>living</td>\n",
       "      <td>100</td>\n",
       "      <td>15000</td>\n",
       "      <td>0.006667</td>\n",
       "    </tr>\n",
       "    <tr>\n",
       "      <th>0</th>\n",
       "      <td>bathroom</td>\n",
       "      <td>300</td>\n",
       "      <td>30000</td>\n",
       "      <td>0.010000</td>\n",
       "    </tr>\n",
       "  </tbody>\n",
       "</table>\n",
       "</div>"
      ],
      "text/plain": [
       "   category  orders  visitors  order_per_visitor\n",
       "1   kitchen     200     40000           0.005000\n",
       "2    living     100     15000           0.006667\n",
       "0  bathroom     300     30000           0.010000"
      ]
     },
     "execution_count": 194,
     "metadata": {},
     "output_type": "execute_result"
    }
   ],
   "source": [
    "df.sort_values(by = 'order_per_visitor')"
   ]
  },
  {
   "cell_type": "markdown",
   "metadata": {},
   "source": [
    "### 4.2 Get data from impala"
   ]
  },
  {
   "cell_type": "markdown",
   "metadata": {
    "collapsed": true
   },
   "source": [
    "#### Make sure to connect to data util: ssh data-util.hzd\n",
    "see our wiki: https://docs.google.com/document/d/1jThmDgBwTqjHSsJTaD_qTIhwqLFW9enUBh0fiqAHTM4/edit"
   ]
  },
  {
   "cell_type": "code",
   "execution_count": 7,
   "metadata": {
    "collapsed": true
   },
   "outputs": [],
   "source": [
    "import impala.dbapi\n",
    "import impala.util\n",
    "\n",
    "from impala.dbapi import connect\n",
    "conn = connect(host='localhost', port=20150)\n",
    "cursor = conn.cursor()"
   ]
  },
  {
   "cell_type": "code",
   "execution_count": 24,
   "metadata": {
    "collapsed": true
   },
   "outputs": [],
   "source": [
    "import numpy as np\n",
    "import pandas as pd\n",
    "import math\n",
    "# from scipy import stats, integrate\n",
    "# import matplotlib.pyplot as plt\n",
    "pd.set_option('display.max_columns', 50)\n",
    "pd.set_option('display.max_rows', 50)"
   ]
  },
  {
   "cell_type": "code",
   "execution_count": 2,
   "metadata": {
    "collapsed": true
   },
   "outputs": [],
   "source": [
    "cursor.execute(\"\"\"\n",
    ".... query ....\n",
    "\"\"\")\n",
    "\n",
    "df0 = impala.util.as_pandas(cursor)"
   ]
  },
  {
   "cell_type": "code",
   "execution_count": 39,
   "metadata": {
    "collapsed": true
   },
   "outputs": [],
   "source": [
    "df1 = df0.loc[:,('house_id', 'upc')]"
   ]
  },
  {
   "cell_type": "code",
   "execution_count": 43,
   "metadata": {
    "collapsed": true
   },
   "outputs": [],
   "source": [
    "# check for UPC length - valid lengths are 8, 12, 13, 14\n",
    "# check missing UPC\n",
    "df1['upc_status'] = df1['upc'].apply(\n",
    "        lambda x: x if (\n",
    "                len(x) == 8 or len(x) == 12 or len(x) == 13 or len(x) == 14\n",
    "        ) else 'Missing' if len(x) == 0 else 'Invalid_length')"
   ]
  },
  {
   "cell_type": "code",
   "execution_count": 3,
   "metadata": {
    "collapsed": true
   },
   "outputs": [],
   "source": [
    "df1.head()"
   ]
  },
  {
   "cell_type": "markdown",
   "metadata": {},
   "source": [
    "## 5. Modeling with Python: Scikit-learn\n",
    "sklearn for machine learning models: http://scikit-learn.org/stable/\n",
    "\n",
    "scipy for statistics: https://docs.scipy.org/doc/scipy/reference/"
   ]
  },
  {
   "cell_type": "code",
   "execution_count": 4,
   "metadata": {},
   "outputs": [
    {
     "name": "stdout",
     "output_type": "stream",
     "text": [
      "(0.94989561586638827, {'max_depth': 3})\n"
     ]
    }
   ],
   "source": [
    "import numpy as np\n",
    "import matplotlib.pyplot as plt\n",
    "import pandas as pd\n",
    "from sklearn.feature_selection import SelectFromModel\n",
    "from sklearn.model_selection import cross_val_score\n",
    "from sklearn.model_selection import KFold\n",
    "from sklearn.tree import DecisionTreeClassifier\n",
    "from sklearn import linear_model, metrics\n",
    "from sklearn import tree\n",
    "from sklearn.linear_model import LogisticRegression\n",
    "from sklearn import discriminant_analysis\n",
    "from sklearn.model_selection import GridSearchCV\n",
    "from sklearn.ensemble import AdaBoostClassifier\n",
    "from sklearn.ensemble import RandomForestClassifier\n",
    "from sklearn.ensemble import BaggingClassifier\n",
    "from sklearn import svm\n",
    "\n",
    "# Reads csv\n",
    "df_train = pd.read_csv('datatraining.txt')\n",
    "df_test = pd.read_csv('datatest.txt')\n",
    "\n",
    "# get train and test data\n",
    "train_X = df_train.iloc[:, 1:-1].values\n",
    "test_X = df_test.iloc[:, 1:-1:].values\n",
    "\n",
    "train_Y = df_train.iloc[:, -1].values\n",
    "test_Y = df_test.iloc[:, -1].values\n",
    "\n",
    "# Decision tree model\n",
    "parameters = {'max_depth':range(3,20)}\n",
    "# GridSearch Cross Validation - select max depth\n",
    "clf = GridSearchCV(tree.DecisionTreeClassifier(), parameters)\n",
    "clf.fit(X=train_X, y=train_Y)\n",
    "tree_model = clf.best_estimator_\n",
    "print (clf.best_score_, clf.best_params_)"
   ]
  },
  {
   "cell_type": "code",
   "execution_count": 198,
   "metadata": {},
   "outputs": [
    {
     "name": "stdout",
     "output_type": "stream",
     "text": [
      "CV, Misclassification rate of DecisionTreeClassifier(class_weight=None, criterion='gini', max_depth=5,\n",
      "            max_features=None, max_leaf_nodes=None,\n",
      "            min_impurity_split=1e-07, min_samples_leaf=1,\n",
      "            min_samples_split=2, min_weight_fraction_leaf=0.0,\n",
      "            presort=False, random_state=None, splitter='best') 0.00700019595725\n",
      "CV, Misclassification rate of DecisionTreeClassifier(class_weight=None, criterion='entropy', max_depth=5,\n",
      "            max_features=None, max_leaf_nodes=None,\n",
      "            min_impurity_split=1e-07, min_samples_leaf=1,\n",
      "            min_samples_split=2, min_weight_fraction_leaf=0.0,\n",
      "            presort=False, random_state=None, splitter='best') 0.00724499178487\n",
      "CV, Misclassification rate of LogisticRegression(C=1.0, class_weight=None, dual=False, fit_intercept=True,\n",
      "          intercept_scaling=1, max_iter=100, multi_class='ovr', n_jobs=1,\n",
      "          penalty='l2', random_state=None, solver='liblinear', tol=0.0001,\n",
      "          verbose=0, warm_start=False) 0.0116663903167\n",
      "CV, Misclassification rate of LinearDiscriminantAnalysis(n_components=None, priors=None, shrinkage=None,\n",
      "              solver='svd', store_covariance=False, tol=0.0001) 0.0122804901946\n",
      "CV, Misclassification rate of BaggingClassifier(base_estimator=None, bootstrap=True,\n",
      "         bootstrap_features=False, max_features=1.0, max_samples=1.0,\n",
      "         n_estimators=10, n_jobs=1, oob_score=False, random_state=None,\n",
      "         verbose=0, warm_start=False) 0.00712229239837\n",
      "CV, Misclassification rate of RandomForestClassifier(bootstrap=True, class_weight=None, criterion='gini',\n",
      "            max_depth=None, max_features='auto', max_leaf_nodes=None,\n",
      "            min_impurity_split=1e-07, min_samples_leaf=1,\n",
      "            min_samples_split=2, min_weight_fraction_leaf=0.0,\n",
      "            n_estimators=10, n_jobs=1, oob_score=False, random_state=None,\n",
      "            verbose=0, warm_start=False) 0.00712349828914\n",
      "CV, Misclassification rate of AdaBoostClassifier(algorithm='SAMME.R', base_estimator=None,\n",
      "          learning_rate=0.1, n_estimators=50, random_state=None) 0.011175743507\n",
      "CV, Misclassification rate of SVC(C=1.0, cache_size=200, class_weight=None, coef0=0.0,\n",
      "  decision_function_shape=None, degree=3, gamma='auto', kernel='rbf',\n",
      "  max_iter=-1, probability=False, random_state=None, shrinking=True,\n",
      "  tol=0.001, verbose=False) 0.0459296664205\n",
      "Test, Misclassification rate of DecisionTreeClassifier(class_weight=None, criterion='gini', max_depth=5,\n",
      "            max_features=None, max_leaf_nodes=None,\n",
      "            min_impurity_split=1e-07, min_samples_leaf=1,\n",
      "            min_samples_split=2, min_weight_fraction_leaf=0.0,\n",
      "            presort=False, random_state=None, splitter='best') 0.0203377110694\n",
      "Test, Misclassification rate of DecisionTreeClassifier(class_weight=None, criterion='entropy', max_depth=5,\n",
      "            max_features=None, max_leaf_nodes=None,\n",
      "            min_impurity_split=1e-07, min_samples_leaf=1,\n",
      "            min_samples_split=2, min_weight_fraction_leaf=0.0,\n",
      "            presort=False, random_state=None, splitter='best') 0.0107317073171\n",
      "Test, Misclassification rate of LogisticRegression(C=1.0, class_weight=None, dual=False, fit_intercept=True,\n",
      "          intercept_scaling=1, max_iter=100, multi_class='ovr', n_jobs=1,\n",
      "          penalty='l2', random_state=None, solver='liblinear', tol=0.0001,\n",
      "          verbose=0, warm_start=False) 0.00217636022514\n",
      "Test, Misclassification rate of LinearDiscriminantAnalysis(n_components=None, priors=None, shrinkage=None,\n",
      "              solver='svd', store_covariance=False, tol=0.0001) 0.00210131332083\n",
      "Test, Misclassification rate of BaggingClassifier(base_estimator=None, bootstrap=True,\n",
      "         bootstrap_features=False, max_features=1.0, max_samples=1.0,\n",
      "         n_estimators=10, n_jobs=1, oob_score=False, random_state=None,\n",
      "         verbose=0, warm_start=False) 0.00585365853659\n",
      "Test, Misclassification rate of RandomForestClassifier(bootstrap=True, class_weight=None, criterion='gini',\n",
      "            max_depth=None, max_features='auto', max_leaf_nodes=None,\n",
      "            min_impurity_split=1e-07, min_samples_leaf=1,\n",
      "            min_samples_split=2, min_weight_fraction_leaf=0.0,\n",
      "            n_estimators=10, n_jobs=1, oob_score=False, random_state=None,\n",
      "            verbose=0, warm_start=False) 0.00525328330206\n",
      "Test, Misclassification rate of AdaBoostClassifier(algorithm='SAMME.R', base_estimator=None,\n",
      "          learning_rate=0.1, n_estimators=50, random_state=None) 0.00217636022514\n",
      "Test, Misclassification rate of SVC(C=1.0, cache_size=200, class_weight=None, coef0=0.0,\n",
      "  decision_function_shape=None, degree=3, gamma='auto', kernel='rbf',\n",
      "  max_iter=-1, probability=False, random_state=None, shrinking=True,\n",
      "  tol=0.001, verbose=False) 0.00896810506567\n"
     ]
    }
   ],
   "source": [
    "# Compare multiple models\n",
    "estimators = 10\n",
    "rate = 0.1\n",
    "\n",
    "crit1 = \"gini\"\n",
    "crit2 = \"entropy\"\n",
    "clf_methods = [tree.DecisionTreeClassifier(criterion=crit1, max_depth=5),\n",
    "               tree.DecisionTreeClassifier(criterion=crit2, max_depth=5),\n",
    "               LogisticRegression(),\n",
    "               discriminant_analysis.LinearDiscriminantAnalysis(),\n",
    "               BaggingClassifier(n_estimators=estimators),\n",
    "               RandomForestClassifier(n_estimators=estimators),\n",
    "               AdaBoostClassifier(learning_rate=rate),\n",
    "               svm.SVC()]\n",
    "clf_rate = 0\n",
    "\n",
    "## K fold Cross Validation to select model\n",
    "kf = KFold(n_splits=10, shuffle=True)\n",
    "for clf in clf_methods:\n",
    "    clf_rate = 0\n",
    "    for train_index, test_index in kf.split(train_X):\n",
    "        X_train, X_test = train_X[train_index], train_X[test_index]\n",
    "        Y_train, Y_test = train_Y[train_index], train_Y[test_index]\n",
    "\n",
    "        clf.fit(X_train, Y_train)\n",
    "        Y_predicted = clf.predict(X_test)\n",
    "        clf_rate += 1 - clf.score(X_test, Y_test)\n",
    "    print \"CV, Misclassification rate of %s\" %(clf), (clf_rate)/10\n",
    "\n",
    "## Results from Test Set\n",
    "clf_methods = [tree.DecisionTreeClassifier(criterion=crit1, max_depth=5),\n",
    "               tree.DecisionTreeClassifier(criterion=crit2, max_depth=5),\n",
    "               LogisticRegression(),\n",
    "               discriminant_analysis.LinearDiscriminantAnalysis(),\n",
    "               BaggingClassifier(n_estimators=estimators),\n",
    "               RandomForestClassifier(n_estimators=estimators),\n",
    "               AdaBoostClassifier(learning_rate=rate),\n",
    "               svm.SVC()]\n",
    "\n",
    "for clf in clf_methods:\n",
    "    clf_rate = 0\n",
    "    clf.fit(X=train_X, y=np.ravel(train_Y))\n",
    "    Y_predicted = clf.predict(train_X)\n",
    "    clf_rate += 1 - clf.score(test_X, test_Y)\n",
    "    print \"Test, Misclassification rate of %s\" %(clf), (clf_rate)/10"
   ]
  },
  {
   "cell_type": "markdown",
   "metadata": {},
   "source": [
    "## 6. Plotting\n",
    "#### matplotlib.pyplot, seaborn, ggplot"
   ]
  },
  {
   "cell_type": "code",
   "execution_count": 18,
   "metadata": {},
   "outputs": [
    {
     "data": {
      "image/png": "[encoded data removed]",
      "text/plain": [
       "<matplotlib.figure.Figure at 0x10fb34dd0>"
      ]
     },
     "metadata": {},
     "output_type": "display_data"
    }
   ],
   "source": [
    "import numpy as np\n",
    "import matplotlib.mlab as mlab\n",
    "import matplotlib.pyplot as plt\n",
    "\n",
    "np.random.seed(0)\n",
    "\n",
    "# example data\n",
    "mu = 100  # mean of distribution\n",
    "sigma = 15  # standard deviation of distribution\n",
    "x = mu + sigma * np.random.randn(437)\n",
    "\n",
    "num_bins = 50\n",
    "\n",
    "fig, ax = plt.subplots()\n",
    "\n",
    "# the histogram of the data\n",
    "n, bins, patches = ax.hist(x, num_bins, normed=1)\n",
    "\n",
    "# add a 'best fit' line\n",
    "y = mlab.normpdf(bins, mu, sigma)\n",
    "ax.plot(bins, y, '--')\n",
    "ax.set_xlabel('Smarts')\n",
    "ax.set_ylabel('Probability density')\n",
    "ax.set_title(r'Histogram of IQ: $\\mu=100$, $\\sigma=15$')\n",
    "\n",
    "# Tweak spacing to prevent clipping of ylabel\n",
    "fig.tight_layout()\n",
    "plt.show()"
   ]
  },
  {
   "cell_type": "code",
   "execution_count": 20,
   "metadata": {},
   "outputs": [
    {
     "data": {
      "image/png": "[encoded data removed]",
      "text/plain": [
       "<matplotlib.figure.Figure at 0x10fae8b50>"
      ]
     },
     "metadata": {},
     "output_type": "display_data"
    },
    {
     "data": {
      "text/plain": [
       "<ggplot: (292509273)>"
      ]
     },
     "execution_count": 20,
     "metadata": {},
     "output_type": "execute_result"
    }
   ],
   "source": [
    "from ggplot import *\n",
    "ggplot(pd.melt(meat, id_vars=['date']), aes(x='date', y='value', color='variable')) +\\\n",
    "    geom_line()"
   ]
  },
  {
   "cell_type": "code",
   "execution_count": null,
   "metadata": {
    "collapsed": true
   },
   "outputs": [],
   "source": []
  }
 ],
 "metadata": {
  "kernelspec": {
   "display_name": "Python 2",
   "language": "python",
   "name": "python2"
  },
  "language_info": {
   "codemirror_mode": {
    "name": "ipython",
    "version": 2
   },
   "file_extension": ".py",
   "mimetype": "text/x-python",
   "name": "python",
   "nbconvert_exporter": "python",
   "pygments_lexer": "ipython2",
   "version": "2.7.13"
  }
 },
 "nbformat": 4,
 "nbformat_minor": 1
}
